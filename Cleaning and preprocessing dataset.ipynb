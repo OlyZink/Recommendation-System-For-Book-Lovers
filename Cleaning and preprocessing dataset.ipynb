{
 "cells": [
  {
   "cell_type": "code",
   "execution_count": null,
   "metadata": {},
   "outputs": [],
   "source": [
    "# Imports\n",
    "import pandas as pd\n",
    "import re\n",
    "import nltk\n",
    "from nltk.corpus import stopwords\n",
    "from nltk.tokenize import word_tokenize\n",
    "\n",
    "# Download necessary resources from NLTK\n",
    "nltk.download('stopwords')\n",
    "nltk.download('punkt')"
   ]
  },
  {
   "cell_type": "code",
   "execution_count": null,
   "metadata": {},
   "outputs": [],
   "source": [
    "# Path to the CSV file\n",
    "csv_path ="
   ]
  },
  {
   "cell_type": "code",
   "execution_count": null,
   "metadata": {},
   "outputs": [],
   "source": [
    "# Load the dataset into a pandas DataFrame\n",
    "df = pd.read_csv(csv_path)\n",
    "\n",
    "# Initial exploration of the dataset\n",
    "print(\"First 5 rows of the dataset:\")\n",
    "print(df.head())\n",
    "\n",
    "print(\"\\nGeneral information about the dataset:\")\n",
    "print(df.info())\n",
    "\n",
    "print(\"\\nStatistical description of numerical columns:\")\n",
    "print(df.describe())\n",
    "\n",
    "# Clean the dataset: remove unnecessary columns\n",
    "print(\"\\nFirst 5 rows of the columns 'review_id', 'read_at', 'started_at', 'date_added', 'date_updated':\")\n",
    "print(df[['read_at', 'started_at', 'review_id', 'date_added', 'date_updated']].head())\n",
    "\n",
    "df = df.drop(columns=['review_id', 'read_at', 'started_at', 'date_added', 'date_updated'])"
   ]
  },
  {
   "cell_type": "code",
   "execution_count": null,
   "metadata": {},
   "outputs": [],
   "source": [
    "# Text preprocessing: cleaning and tokenizing\n",
    "stop_words = set(stopwords.words('english'))\n",
    "\n",
    "# Function to clean text\n",
    "def clean_text(text):\n",
    "    # Convert to lowercase\n",
    "    text = text.lower()\n",
    "    # Remove punctuation, numbers, and special characters\n",
    "    text = re.sub(r'[^\\w\\s]', '', text)\n",
    "    text = re.sub(r'\\d+', '', text)\n",
    "    # Remove stop words\n",
    "    text = ' '.join([word for word in text.split() if word not in stop_words])\n",
    "    return text\n",
    "\n",
    "# Apply the cleaning function to the 'review_text' column\n",
    "df['cleaned_review_text'] = df['review_text'].apply(clean_text)\n",
    "\n",
    "# Display the first few rows of the cleaned text\n",
    "print(\"\\nCleaned text:\")\n",
    "print(df[['review_text', 'cleaned_review_text']].head())\n",
    "\n",
    "# Tokenize the cleaned text\n",
    "df['tokenized_review_text'] = df['cleaned_review_text'].apply(word_tokenize)\n",
    "\n",
    "# Display the first few rows of the tokenized text\n",
    "print(\"\\nTokenized text:\")\n",
    "print(df[['cleaned_review_text', 'tokenized_review_text']].head())"
   ]
  }
 ],
 "metadata": {
  "language_info": {
   "name": "python"
  }
 },
 "nbformat": 4,
 "nbformat_minor": 2
}
